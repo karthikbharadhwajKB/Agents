{
 "cells": [
  {
   "cell_type": "markdown",
   "id": "831af406",
   "metadata": {},
   "source": [
    "#### Importing all required Libraries"
   ]
  },
  {
   "cell_type": "code",
   "execution_count": 4,
   "id": "da15882b",
   "metadata": {},
   "outputs": [
    {
     "data": {
      "text/plain": [
       "True"
      ]
     },
     "execution_count": 4,
     "metadata": {},
     "output_type": "execute_result"
    }
   ],
   "source": [
    "import os \n",
    "\n",
    "from dotenv import load_dotenv\n",
    "from huggingface_hub import InferenceClient\n",
    "\n",
    "\n",
    "load_dotenv()"
   ]
  },
  {
   "cell_type": "markdown",
   "id": "2175710a",
   "metadata": {},
   "source": [
    "#### Getting LLM Model: HF's Serverless API\n",
    "\n",
    "In the HuggingFace ecosystem, there is a convenient feature called `Serverless API` that allows you to easily run inference on many models. There's no installation or deployment required."
   ]
  },
  {
   "cell_type": "code",
   "execution_count": 6,
   "id": "130daf25",
   "metadata": {},
   "outputs": [],
   "source": [
    "client = InferenceClient(\"meta-llama/Llama-3.3-70B-Instruct\")"
   ]
  },
  {
   "cell_type": "code",
   "execution_count": 12,
   "id": "5ee6ed24",
   "metadata": {},
   "outputs": [
    {
     "name": "stdout",
     "output_type": "stream",
     "text": [
      " a city that is steeped in history, art, fashion, and culture. From the iconic Eiffel Tower to the world-famous Louvre Museum, there are countless things to see and do in Paris. Here are some of the top attractions and experiences to add to your Parisian itinerary:\n",
      "1. The Eiffel Tower: This iron lattice tower is one of the most recognizable landmarks in the world and offers breathtaking views of the city from its observation decks.\n",
      "2. The Louvre Museum\n"
     ]
    }
   ],
   "source": [
    "output = client.text_generation(\n",
    "    prompt=\"The capital of France is\",\n",
    "    max_new_tokens=100\n",
    ")\n",
    "\n",
    "print(output)"
   ]
  },
  {
   "cell_type": "markdown",
   "id": "e7e68e12",
   "metadata": {},
   "source": [
    "As ween "
   ]
  },
  {
   "cell_type": "code",
   "execution_count": 14,
   "id": "7cc8533f",
   "metadata": {},
   "outputs": [
    {
     "name": "stdout",
     "output_type": "stream",
     "text": [
      "\n",
      "\n",
      "The capital of France is Paris.\n"
     ]
    }
   ],
   "source": [
    "prompt = \"\"\"<|begin_of_text|><|start_header_id|>user<|end_header_id|>\n",
    "The capital of France is<|eot_id|><|start_header_id|>assistant<|end_header_id|>\"\"\"\n",
    "\n",
    "output = client.text_generation(\n",
    "    prompt,\n",
    "    max_new_tokens=100\n",
    ")\n",
    "\n",
    "print(output)"
   ]
  },
  {
   "cell_type": "markdown",
   "id": "4a8ea173",
   "metadata": {},
   "source": [
    "##### `Chat` Interface:\n",
    " \n",
    "Using the `chat` method is a much more convenient and reliable way to apply chat templates:"
   ]
  },
  {
   "cell_type": "code",
   "execution_count": 15,
   "id": "9ee893f6",
   "metadata": {},
   "outputs": [
    {
     "name": "stdout",
     "output_type": "stream",
     "text": [
      "ChatCompletionOutput(choices=[ChatCompletionOutputComplete(finish_reason='stop', index=0, message=ChatCompletionOutputMessage(role='assistant', content='The capital of France is Paris.', tool_call_id=None, tool_calls=None), logprobs=None)], created=1749742141, id='', model='meta-llama/Llama-3.3-70B-Instruct', system_fingerprint='3.2.1-sha-4d28897', usage=ChatCompletionOutputUsage(completion_tokens=8, prompt_tokens=40, total_tokens=48), object='chat.completion')\n"
     ]
    }
   ],
   "source": [
    "output = client.chat.completions.create(\n",
    "    messages=[\n",
    "        {\"role\": \"user\", \"content\": \"The capital of France is\"}\n",
    "    ],\n",
    "    stream=False,\n",
    "    max_tokens=1024\n",
    ")\n",
    "\n",
    "print(output)"
   ]
  },
  {
   "cell_type": "code",
   "execution_count": 16,
   "id": "a3fa2ac1",
   "metadata": {},
   "outputs": [
    {
     "name": "stdout",
     "output_type": "stream",
     "text": [
      "The capital of France is Paris.\n"
     ]
    }
   ],
   "source": [
    "print(output.choices[0].message.content)"
   ]
  },
  {
   "cell_type": "markdown",
   "id": "55d96c62",
   "metadata": {},
   "source": [
    "The chat method is the `RECOMMENDED` method to use in order to ensure a smooth transition between models"
   ]
  },
  {
   "cell_type": "markdown",
   "id": "1829430a",
   "metadata": {},
   "source": [
    "### Dummy Agent\n",
    "\n",
    "In the previous section, we saw that the core of an agent library is to"
   ]
  },
  {
   "cell_type": "code",
   "execution_count": null,
   "id": "2a6b5ac7",
   "metadata": {},
   "outputs": [],
   "source": []
  }
 ],
 "metadata": {
  "kernelspec": {
   "display_name": ".venv",
   "language": "python",
   "name": "python3"
  },
  "language_info": {
   "codemirror_mode": {
    "name": "ipython",
    "version": 3
   },
   "file_extension": ".py",
   "mimetype": "text/x-python",
   "name": "python",
   "nbconvert_exporter": "python",
   "pygments_lexer": "ipython3",
   "version": "3.10.17"
  }
 },
 "nbformat": 4,
 "nbformat_minor": 5
}
