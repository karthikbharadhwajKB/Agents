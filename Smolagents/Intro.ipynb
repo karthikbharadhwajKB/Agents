{
 "cells": [
  {
   "cell_type": "markdown",
   "id": "ccc1f6ed",
   "metadata": {},
   "source": [
    "#### Introduction to Agentic Frameworks"
   ]
  },
  {
   "cell_type": "markdown",
   "id": "79c0dda0",
   "metadata": {},
   "source": [
    "We'll explore different agentic frameworks that can be used to build powerful"
   ]
  },
  {
   "cell_type": "markdown",
   "id": "62e7bc9c",
   "metadata": {},
   "source": []
  }
 ],
 "metadata": {
  "kernelspec": {
   "display_name": ".venv",
   "language": "python",
   "name": "python3"
  },
  "language_info": {
   "name": "python",
   "version": "3.10.17"
  }
 },
 "nbformat": 4,
 "nbformat_minor": 5
}
